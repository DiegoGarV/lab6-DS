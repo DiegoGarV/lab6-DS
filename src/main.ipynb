{
 "cells": [
  {
   "cell_type": "markdown",
   "id": "feec8eb3",
   "metadata": {},
   "source": [
    "# Laboratorio 6 - Análisis de Redes Sociales\n",
    "\n",
    "#### Diego García 22404\n",
    "#### Andrés Ortega 22305\n",
    "#### Esteban Zambrano 22119\n",
    "\n",
    "**Link del repositorio:**\n",
    "\n",
    "https://github.com/DiegoGarV/lab6-DS"
   ]
  },
  {
   "cell_type": "markdown",
   "id": "ecf55bb6",
   "metadata": {},
   "source": [
    "*PROBLEMA 2 - BERNARDO ARÉVALO*"
   ]
  }
 ],
 "metadata": {
  "kernelspec": {
   "display_name": ".venv (3.10.11)",
   "language": "python",
   "name": "python3"
  },
  "language_info": {
   "name": "python",
   "version": "3.10.11"
  }
 },
 "nbformat": 4,
 "nbformat_minor": 5
}
